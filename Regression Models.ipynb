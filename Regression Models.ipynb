{
 "cells": [
  {
   "cell_type": "markdown",
   "metadata": {},
   "source": [
    "## 1 - Linear Models"
   ]
  },
  {
   "cell_type": "markdown",
   "metadata": {},
   "source": [
    "Some terminology:\n",
    "<br><br>***X: Independed variable*** used to predict the response.\n",
    "<br>***y: Response*** dependent variable we're trying to predict.\n",
    "<br>$\\mathbf{\\beta_0}$***: Intercept*** of the regression line; the predicted value when X=0.\n",
    "<br>$\\mathbf{\\beta_1}$***: Regression coefficient*** is the slope of regression line.\n",
    "<br>***Residual*** or error is the difference between the observed values and the fitted values."
   ]
  },
  {
   "cell_type": "markdown",
   "metadata": {},
   "source": [
    "### 1.1 - Ordinary Least Squares"
   ]
  },
  {
   "cell_type": "markdown",
   "metadata": {},
   "source": [
    "Here we try to predict the $y$ variable from $X$ using a linear relationship:\n",
    "$$ y = \\beta_0 + \\beta_1X $$\n",
    "\n",
    "Correlation is another way to measure how two variables are related. The difference is that while correlation measures the strength of an association between two variables, regression quantifies the nature of the relationship."
   ]
  },
  {
   "cell_type": "code",
   "execution_count": 442,
   "metadata": {},
   "outputs": [
    {
     "data": {
      "image/png": "[encoded data removed]",
      "text/plain": [
       "<Figure size 432x288 with 1 Axes>"
      ]
     },
     "metadata": {},
     "output_type": "display_data"
    },
    {
     "name": "stdout",
     "output_type": "stream",
     "text": [
      "Coefficients: [42.61943029]\n",
      "Intercept: -0.8141818270307253\n"
     ]
    }
   ],
   "source": [
    "from sklearn.linear_model import LinearRegression\n",
    "import matplotlib.pyplot as plt\n",
    "from sklearn.datasets import make_regression\n",
    "\n",
    "# Generate data sample\n",
    "X, y = make_regression(100,1,noise=10, random_state=0)\n",
    "\n",
    "regr = LinearRegression(normalize=True)\n",
    "regr.fit(X, y)\n",
    "y_pred = regr.predict(X)\n",
    "\n",
    "plt.scatter(X,y)\n",
    "plt.plot(X,y_pred,'r')\n",
    "plt.xticks(())\n",
    "plt.yticks(())\n",
    "plt.title('Linear Regression',fontsize=15)\n",
    "plt.show()\n",
    "\n",
    "# The coefficients\n",
    "print('Coefficients:', regr.coef_)\n",
    "print('Intercept:', regr.intercept_)"
   ]
  },
  {
   "cell_type": "markdown",
   "metadata": {},
   "source": [
    "### 1.2 - Ridge"
   ]
  },
  {
   "cell_type": "markdown",
   "metadata": {},
   "source": [
    "Ridge regression addresses some of the problems of Ordinary Least Squares by imposing a penalty $\\alpha$ on the size of the coefficients."
   ]
  },
  {
   "cell_type": "code",
   "execution_count": 126,
   "metadata": {},
   "outputs": [],
   "source": [
    "from sklearn.linear_model import Ridge\n",
    "\n",
    "regr = Ridge(alpha=0.001)\n",
    "regr.fit(X, y)\n",
    "y_pred = regr.predict(X)"
   ]
  },
  {
   "cell_type": "markdown",
   "metadata": {},
   "source": [
    "We can find the value of $\\alpha$ by leave-one-out Cross-Validation:"
   ]
  },
  {
   "cell_type": "code",
   "execution_count": 123,
   "metadata": {},
   "outputs": [
    {
     "data": {
      "text/plain": [
       "0.0012742749857031334"
      ]
     },
     "execution_count": 123,
     "metadata": {},
     "output_type": "execute_result"
    }
   ],
   "source": [
    "from sklearn.linear_model import RidgeCV\n",
    "\n",
    "regr = RidgeCV(alphas=np.logspace(-5, 5, 20))\n",
    "regr.fit(X, y)\n",
    "regr.alpha_"
   ]
  },
  {
   "cell_type": "markdown",
   "metadata": {},
   "source": [
    "### 1.3 - Lasso"
   ]
  },
  {
   "cell_type": "markdown",
   "metadata": {},
   "source": [
    "Lasso is another regression analysis method that performs both variable selection and regularization in order to enhance the prediction accuracy and interpretability of the resulting statistical model."
   ]
  },
  {
   "cell_type": "code",
   "execution_count": 127,
   "metadata": {},
   "outputs": [],
   "source": [
    "from sklearn.linear_model import Lasso\n",
    "\n",
    "regr = Lasso(alpha=0.1)\n",
    "regr.fit(X, y)\n",
    "y_pred = regr.predict(X)"
   ]
  },
  {
   "cell_type": "markdown",
   "metadata": {},
   "source": [
    "Again $\\alpha$ can be estimate by cross-validation:"
   ]
  },
  {
   "cell_type": "code",
   "execution_count": 94,
   "metadata": {},
   "outputs": [
    {
     "data": {
      "text/plain": [
       "0.043293951785745716"
      ]
     },
     "execution_count": 94,
     "metadata": {},
     "output_type": "execute_result"
    }
   ],
   "source": [
    "from sklearn.linear_model import LassoCV\n",
    "\n",
    "regr = LassoCV(cv=20)\n",
    "regr.fit(X, y)\n",
    "regr.alpha_"
   ]
  },
  {
   "cell_type": "markdown",
   "metadata": {},
   "source": [
    "### 1.4 - Bayesian Ridge"
   ]
  },
  {
   "cell_type": "markdown",
   "metadata": {},
   "source": [
    "Bayesian Ridge estimates a probabilistic model of the regression problem by introducing uninformative priors over the hyper parameters of the model. "
   ]
  },
  {
   "cell_type": "code",
   "execution_count": 128,
   "metadata": {},
   "outputs": [],
   "source": [
    "from sklearn.linear_model import BayesianRidge\n",
    "\n",
    "regr = BayesianRidge()\n",
    "regr.fit(X, y)\n",
    "y_pred = regr.predict(X)"
   ]
  },
  {
   "cell_type": "markdown",
   "metadata": {},
   "source": [
    "### 1.5 - Generalized Linear Models (GLM)"
   ]
  },
  {
   "cell_type": "markdown",
   "metadata": {},
   "source": [
    "The GLM generalizes linear regression by allowing the linear model to be related to the response variable via a link function and allows the response variable to have an error distribution other than the normal distribution.<br>\n",
    "<br>power = 0: Normal distribution\n",
    "<br>power = 1, link='log': Poisson distribution\n",
    "<br>power = 2, link='log': Gamma distribution\n",
    "<br>power = 3: Inverse Gaussian distribution"
   ]
  },
  {
   "cell_type": "code",
   "execution_count": 129,
   "metadata": {},
   "outputs": [],
   "source": [
    "from sklearn.linear_model import TweedieRegressor\n",
    "\n",
    "regr = TweedieRegressor(power=1, alpha=0.5, link='log')\n",
    "regr.fit(X, y)\n",
    "y_pred = regr.predict(X)"
   ]
  },
  {
   "cell_type": "markdown",
   "metadata": {},
   "source": [
    "### 1.6 - Stochastic Gradient Descent (SGD)"
   ]
  },
  {
   "cell_type": "markdown",
   "metadata": {},
   "source": [
    "Stochastic gradient descent is a simple yet very efficient approach to fit linear models. It is particularly useful when the number of samples (and the number of features) is very large (> 10.000). <br><br>\n",
    "SGDRegressor supports the following loss functions:<br>\n",
    "<br>loss = \"squared_loss\":  Ordinary least squares\n",
    "<br>loss = \"huber\":  Huber loss for robust regression\n",
    "<br>loss = \"epsilon_insensitive\":  linear Support Vector Regression"
   ]
  },
  {
   "cell_type": "code",
   "execution_count": 130,
   "metadata": {},
   "outputs": [],
   "source": [
    "from sklearn.linear_model import SGDRegressor\n",
    "\n",
    "regr = SGDRegressor()\n",
    "regr.fit(X, y)\n",
    "y_pred = regr.predict(X)"
   ]
  },
  {
   "cell_type": "markdown",
   "metadata": {},
   "source": [
    "## 2 - Nonlinear Models"
   ]
  },
  {
   "cell_type": "markdown",
   "metadata": {},
   "source": [
    "### 2.1 - Support Vector Machine (SVM) Regression"
   ]
  },
  {
   "cell_type": "markdown",
   "metadata": {},
   "source": [
    "The SVR by setting decision boundaries try to estimate the best hyperplane which fits the data and covers the majority of time-points. <br>\n",
    "The advatage of SVM is its effectiveness if the number of dimensions is greater than the number of samples, also it's memory efficient, and it accepts both linear and nonlinear kernel functions, so it's versatile. <br><br>\n",
    "SVM Terminology: <br>\n",
    "**Kernel:** A kernel helps us find a hyperplane in the higher dimensional space without increasing the computational cost. Usually, the computational cost will increase if the dimension of the data increases. This increase in dimension is required when we are unable to find a separating hyperplane in a given dimension and are required to move in a higher dimension. <br>\n",
    "**Hyperplane:** This is basically a separating line between two data classes in SVM. But in Support Vector Regression, this is the line that will be used to predict the continuous output. <br>\n",
    "**Decision Boundary:** A decision boundary can be thought of as a demarcation line (for simplification) on one side of which lie positive examples and on the other side lie the negative examples. On this very line, the examples may be classified as either positive or negative. This same concept of SVM will be applied in Support Vector Regression as well"
   ]
  },
  {
   "cell_type": "code",
   "execution_count": 450,
   "metadata": {},
   "outputs": [
    {
     "name": "stdout",
     "output_type": "stream",
     "text": [
      "R2 score of Linear model =  -0.19\n",
      "R2 score of Polynomial model =  0.88\n",
      "R2 score of RBF model =  0.37\n"
     ]
    },
    {
     "data": {
      "image/png": "[encoded data removed]",
      "text/plain": [
       "<Figure size 1080x360 with 3 Axes>"
      ]
     },
     "metadata": {
      "needs_background": "light"
     },
     "output_type": "display_data"
    }
   ],
   "source": [
    "import matplotlib.pyplot as plt\n",
    "from sklearn.datasets import make_regression\n",
    "from sklearn.svm import SVR\n",
    "\n",
    "# Generate data sample\n",
    "X, y = make_regression(100,1,noise=10, random_state=0)\n",
    "y=y*y\n",
    "\n",
    "# Fit regression model\n",
    "svr_rbf = SVR(kernel='rbf', C=100, gamma='auto')\n",
    "svr_lin = SVR(kernel='linear', C=100, gamma='auto')\n",
    "svr_poly = SVR(kernel='poly', C=100, gamma='auto', degree=2)\n",
    "\n",
    "# Look at the results\n",
    "X_grid = np.arange(min(X), max(X), 0.01)\n",
    "X_grid = X_grid.reshape((len(X_grid), 1))\n",
    "\n",
    "svrs = [svr_lin, svr_poly, svr_rbf]\n",
    "kernel_label = ['Linear', 'Polynomial', 'RBF']\n",
    "model_color = ['k', 'r', 'g']\n",
    "\n",
    "fig, axes = plt.subplots(nrows=1, ncols=3, figsize=(15, 5), sharey=True)\n",
    "for ix, svr in enumerate(svrs):\n",
    "    \n",
    "    axes[ix].plot(X_grid, svr.fit(X, y).predict(X_grid), color=model_color[ix],\n",
    "                  label='{} model'.format(kernel_label[ix]), linewidth=4)\n",
    "    axes[ix].scatter(X[svr.support_], y[svr.support_], color = 'b')\n",
    "    axes[ix].legend(loc='upper center', bbox_to_anchor=(0.5, 1.1),\n",
    "                    ncol=1, fancybox=True, shadow=True)\n",
    "    plt.xticks(())\n",
    "    plt.yticks(())\n",
    "    \n",
    "    print('R2 score of {} model = '.format(kernel_label[ix]),\n",
    "          round(metrics.r2_score(y, svr.fit(X, y).predict(X)),2))\n",
    "fig.suptitle(\"Support Vector Regression\", fontsize=14)\n",
    "plt.show()"
   ]
  },
  {
   "cell_type": "markdown",
   "metadata": {},
   "source": [
    "### 2.2 - K-Nearest Neighbors (KNN) Regression"
   ]
  },
  {
   "cell_type": "markdown",
   "metadata": {},
   "source": [
    "**KNN Regressor** implements learning based on the  nearest neighbors of each query point, where $k$ is an integer value specified by the user. <br><br>\n",
    "weights =\n",
    "<br>\n",
    "**'uniform'** each point in the local neighborhood contributes uniformly to the classification of a query point.\n",
    "<br>\n",
    "**'distance'** nearby points contribute more to the regression than faraway points. "
   ]
  },
  {
   "cell_type": "code",
   "execution_count": 305,
   "metadata": {},
   "outputs": [
    {
     "name": "stdout",
     "output_type": "stream",
     "text": [
      "R2 score of uniform weight =  0.84\n",
      "R2 score of distance weight =  1.0\n"
     ]
    },
    {
     "data": {
      "image/png": "[encoded data removed]",
      "text/plain": [
       "<Figure size 720x360 with 2 Axes>"
      ]
     },
     "metadata": {
      "needs_background": "light"
     },
     "output_type": "display_data"
    }
   ],
   "source": [
    "from sklearn.neighbors import KNeighborsRegressor\n",
    "\n",
    "# Fit regression model\n",
    "knn_uniform = KNeighborsRegressor(n_neighbors=4)\n",
    "knn_distance = KNeighborsRegressor(n_neighbors=4, weights='distance')\n",
    "\n",
    "# Look at the results\n",
    "X_grid = np.arange(min(X), max(X), 0.01)\n",
    "X_grid = X_grid.reshape((len(X_grid), 1))\n",
    "\n",
    "knns = [knn_uniform, knn_distance]\n",
    "knn_label = ['uniform', 'distance']\n",
    "model_color = ['k', 'r']\n",
    "\n",
    "fig, axes = plt.subplots(nrows=1, ncols=2, figsize=(10, 5), sharey=True)\n",
    "for ix, knn in enumerate(knns):\n",
    "    \n",
    "    axes[ix].plot(X_grid, knn.fit(X, y).predict(X_grid), color=model_color[ix],\n",
    "                  label='{} weight'.format(knn_label[ix]), linewidth=3)\n",
    "    axes[ix].scatter(X, y, color = 'b')\n",
    "    axes[ix].legend(loc='upper center', bbox_to_anchor=(0.5, 1.1),\n",
    "                    ncol=1, fancybox=True, shadow=True)\n",
    "    \n",
    "    print('R2 score of {} weight = '.format(knn_label[ix]),\n",
    "          round(metrics.r2_score(y, knn.fit(X, y).predict(X)),2))\n",
    "    \n",
    "fig.suptitle(\"KNN Regression\", fontsize=14)\n",
    "plt.show()"
   ]
  },
  {
   "cell_type": "markdown",
   "metadata": {},
   "source": [
    "We can automatically tune the parameters of the model in two ways: **Grid Search** and **Randomized Parameter Optimization**."
   ]
  },
  {
   "cell_type": "markdown",
   "metadata": {},
   "source": [
    "##### 2.2.1 Grid Search"
   ]
  },
  {
   "cell_type": "code",
   "execution_count": 430,
   "metadata": {},
   "outputs": [
    {
     "name": "stdout",
     "output_type": "stream",
     "text": [
      "Score =  0.6727750397253914\n",
      "n_neighbors =  3\n"
     ]
    }
   ],
   "source": [
    "from sklearn.model_selection import GridSearchCV\n",
    "params = {\"n_neighbors\": np.arange(1,5),\n",
    "         \"metric\": [\"euclidean\",\"cityblock\"]}\n",
    "grid = GridSearchCV(estimator=knn, param_grid=params)\n",
    "grid.fit(X,y)\n",
    "print(\"Score = \", grid.best_score_)\n",
    "print(\"n_neighbors = \", grid.best_estimator_.n_neighbors)"
   ]
  },
  {
   "cell_type": "markdown",
   "metadata": {},
   "source": [
    "##### 2.2.2 Randomized Parameter Optimization"
   ]
  },
  {
   "cell_type": "code",
   "execution_count": 433,
   "metadata": {},
   "outputs": [
    {
     "name": "stdout",
     "output_type": "stream",
     "text": [
      "Score =  0.719848597673149\n"
     ]
    }
   ],
   "source": [
    "from sklearn.model_selection import RandomizedSearchCV\n",
    "params = {\"n_neighbors\": range(1,5),\n",
    "         \"weights\": [\"uniform\",\"distance\"]}\n",
    "rsearch = RandomizedSearchCV(estimator=knn,\n",
    "                            param_distributions=params,\n",
    "                            cv=4,\n",
    "                            n_iter=8,\n",
    "                            random_state=5)\n",
    "rsearch.fit(X, y)\n",
    "print(\"Score = \", rsearch.best_score_)"
   ]
  },
  {
   "cell_type": "markdown",
   "metadata": {},
   "source": [
    "##### 2.2.3 Cross Validation"
   ]
  },
  {
   "cell_type": "code",
   "execution_count": 435,
   "metadata": {},
   "outputs": [
    {
     "name": "stdout",
     "output_type": "stream",
     "text": [
      "[0.82543857 0.90522179 0.581685   0.58952043]\n"
     ]
    }
   ],
   "source": [
    "from sklearn.model_selection import cross_val_score\n",
    "print(cross_val_score(knn,X,y,cv=4))"
   ]
  },
  {
   "cell_type": "markdown",
   "metadata": {},
   "source": [
    "### 2.3 - Gaussian Process Regression (GPR)"
   ]
  },
  {
   "cell_type": "markdown",
   "metadata": {},
   "source": [
    "The GaussianProcessRegressor implements Gaussian processes (GP) for regression purposes. For this, the prior of the GP needs to be specified. The prior mean is assumed to be constant and zero (for normalize_y=False) or the training data’s mean (for normalize_y=True). The prior’s covariance is specified by passing a kernel object. "
   ]
  },
  {
   "cell_type": "code",
   "execution_count": 368,
   "metadata": {},
   "outputs": [
    {
     "data": {
      "image/png": "[encoded data removed]",
      "text/plain": [
       "<Figure size 432x288 with 1 Axes>"
      ]
     },
     "metadata": {
      "needs_background": "light"
     },
     "output_type": "display_data"
    }
   ],
   "source": [
    "from sklearn.gaussian_process import GaussianProcessRegressor\n",
    "from sklearn.gaussian_process.kernels import RBF, RationalQuadratic\n",
    "\n",
    "kernel =  RBF() + RationalQuadratic()\n",
    "X_grid = np.arange(min(X), max(X), 0.01)\n",
    "X_grid = X_grid.reshape((len(X_grid), 1))\n",
    "\n",
    "gpr = GaussianProcessRegressor(kernel=kernel)\n",
    "gpr.fit(X, y)\n",
    "y_pred = gpr.predict(X_grid)\n",
    "\n",
    "plt.scatter(X,y)\n",
    "plt.plot(X_grid,y_pred,'r')\n",
    "plt.show()"
   ]
  },
  {
   "cell_type": "markdown",
   "metadata": {},
   "source": [
    "### 2.4 - Decision Tree Regression"
   ]
  },
  {
   "cell_type": "markdown",
   "metadata": {},
   "source": [
    "Decision tree builds regression models in the form of a tree structure. It breaks down a dataset into smaller and smaller subsets while at the same time an associated decision tree is incrementally developed. The final result is a tree with decision nodes and leaf nodes. <br><br>\n",
    "Predicting a continuous value (regression) with a tree follows the same logic and procedure as in classification, except that impurity is measured by squared deviations from the mean (squared errors) in each subpartition, and predictive performance is judged by the square root of the mean squared error (RMSE) in each partition."
   ]
  },
  {
   "cell_type": "code",
   "execution_count": 394,
   "metadata": {},
   "outputs": [
    {
     "data": {
      "image/png": "[encoded data removed]",
      "text/plain": [
       "<Figure size 432x288 with 1 Axes>"
      ]
     },
     "metadata": {
      "needs_background": "light"
     },
     "output_type": "display_data"
    },
    {
     "name": "stdout",
     "output_type": "stream",
     "text": [
      "R2 score with max_depth 5 =  0.96\n",
      "R2 score with max_depth 3 =  0.88\n"
     ]
    }
   ],
   "source": [
    "from sklearn.tree import DecisionTreeRegressor\n",
    "\n",
    "X_grid = np.arange(min(X), max(X), 0.01)\n",
    "X_grid = X_grid.reshape((len(X_grid), 1))\n",
    "\n",
    "regr_1 = DecisionTreeRegressor(max_depth=5)\n",
    "regr_1.fit(X, y)\n",
    "y_pred_1 = regr_1.predict(X_grid)\n",
    "\n",
    "regr_2 = DecisionTreeRegressor(max_depth=3)\n",
    "regr_2.fit(X, y)\n",
    "y_pred_2 = regr_2.predict(X_grid)\n",
    "\n",
    "plt.scatter(X,y)\n",
    "plt.plot(X_grid,y_pred_1,'r', linewidth=3)\n",
    "plt.plot(X_grid,y_pred_2,'g', linewidth=3)\n",
    "plt.show()\n",
    "\n",
    "print('R2 score with max_depth 5 = ', round(metrics.r2_score(y, regr_1.predict(X)),2))\n",
    "print('R2 score with max_depth 3 = ', round(metrics.r2_score(y, regr_2.predict(X)),2))"
   ]
  },
  {
   "cell_type": "markdown",
   "metadata": {},
   "source": [
    "### 2.5 - Random Forest Regression"
   ]
  },
  {
   "cell_type": "markdown",
   "metadata": {},
   "source": [
    "A random forest is a meta estimator that fits a number of classifying decision trees on various sub-samples of the dataset and uses averaging to improve the predictive accuracy and control over-fitting. <br><br>\n",
    "Parameters:\n",
    "<br>**n_estimators** The number of trees in the forest.\n",
    "<br>**max_depth** The maximum depth of the tree. If None, then nodes are expanded until all leaves are pure or until all leaves contain less than min_samples_split samples.\n",
    "<br>**min_samples_split** The minimum number of samples required to split an internal node.\n",
    "<br>**max_features** The number of features to consider when looking for the best split.\n",
    "<br>**max_leaf_nodes** Grow trees with max_leaf_nodes in best-first fashion. Best nodes are defined as relative reduction in impurity. If None then unlimited number of leaf nodes.\n"
   ]
  },
  {
   "cell_type": "code",
   "execution_count": 413,
   "metadata": {},
   "outputs": [
    {
     "data": {
      "image/png": "[encoded data removed]",
      "text/plain": [
       "<Figure size 432x288 with 1 Axes>"
      ]
     },
     "metadata": {
      "needs_background": "light"
     },
     "output_type": "display_data"
    },
    {
     "name": "stdout",
     "output_type": "stream",
     "text": [
      "R2 score =  0.89\n"
     ]
    }
   ],
   "source": [
    "from sklearn.ensemble import RandomForestRegressor\n",
    "\n",
    "regr = RandomForestRegressor(n_estimators=10, max_features=1, max_leaf_nodes=5,random_state=42)\n",
    "regr.fit(X, y)\n",
    "y_pred = regr.predict(X_grid)\n",
    "\n",
    "plt.scatter(X,y)\n",
    "plt.plot(X_grid,y_pred,'r', linewidth=3)\n",
    "plt.show()\n",
    "print('R2 score = ', round(metrics.r2_score(y, regr.predict(X)),2))"
   ]
  },
  {
   "cell_type": "markdown",
   "metadata": {},
   "source": [
    "### Bonus - Voting Regression"
   ]
  },
  {
   "cell_type": "markdown",
   "metadata": {},
   "source": [
    "The idea behind the VotingRegressor is to combine conceptually different machine learning regressors and return the average predicted values. Such a regressor can be useful for a set of equally well performing models in order to balance out their individual weaknesses."
   ]
  },
  {
   "cell_type": "code",
   "execution_count": 424,
   "metadata": {},
   "outputs": [
    {
     "name": "stdout",
     "output_type": "stream",
     "text": [
      "R2 score: 0.86 [K-Neighbors]\n",
      "R2 score: 1.00 [Decision Tree]\n",
      "R2 score: 0.97 [Random Forest]\n",
      "R2 score: 0.99 [Gradient Boosting]\n",
      "R2 score: 0.98 [Ensemble]\n"
     ]
    }
   ],
   "source": [
    "from sklearn.model_selection import cross_val_score\n",
    "from sklearn.neighbors import KNeighborsRegressor\n",
    "from sklearn.tree import DecisionTreeRegressor\n",
    "from sklearn.ensemble import RandomForestRegressor\n",
    "from sklearn.ensemble import GradientBoostingRegressor\n",
    "from sklearn.ensemble import VotingRegressor\n",
    "\n",
    "X, y = make_regression(100,1,noise=10, random_state=0)\n",
    "y = y*y\n",
    "\n",
    "reg1 = KNeighborsRegressor()\n",
    "reg2 = DecisionTreeRegressor()\n",
    "reg3 = RandomForestRegressor()\n",
    "reg4 = GradientBoostingRegressor()\n",
    "\n",
    "ereg = VotingRegressor([('knn', reg1), ('dt', reg2), ('rf', reg3), ('gb', reg4)])\n",
    "\n",
    "for reg, label in zip([reg1, reg2, reg3, reg4, ereg], ['K-Neighbors', 'Decision Tree',\n",
    "                                                       'Random Forest', 'Gradient Boosting', 'Ensemble']):\n",
    "    reg.fit(X,y)\n",
    "    y_pred = reg.predict(X)\n",
    "    print(\"R2 score: %0.2f [%s]\" % (round(metrics.r2_score(y, y_pred),2), label))"
   ]
  },
  {
   "cell_type": "markdown",
   "metadata": {},
   "source": [
    "## 3 - Regression Performance Metrics"
   ]
  },
  {
   "cell_type": "markdown",
   "metadata": {},
   "source": [
    "The **Explained Variance** computes the deviation in variance  of predicted value $\\hat{y}$ from the true value $y$ :\n",
    "<br><br>\n",
    "\\begin{align}\n",
    "\\mathbf{EV}(y,\\hat{y}) & = 1- \\frac{Var \\langle y-\\hat{y} \\rangle }{Var \\langle y \\rangle }\\\\\n",
    "\\end{align}\n",
    "The best possible score is 1.0, lower values are worse.\n",
    "\n",
    "The **Mean Squared Error** meausres the average squared difference between the predicted values and the true value:\n",
    "<br><br>\n",
    "\\begin{align}\n",
    "\\mathbf{MSE}(y,\\hat{y}) & = \\frac{1}{n_{samples}} \\sum_{i=0}^{n_{samples}-1} (y_i-\\hat{y_i})^2 \\\\\n",
    "\\end{align}\n",
    "\n",
    "The $\\mathbf{R^2\\;score}$  represents the proportion of variance that has been explained by the independent variables in the model. It provides an indication of goodness of fit and therefore a measure of how well unseen samples are likely to be predicted by the model, through the proportion of explained variance.\n",
    "<br><br>\n",
    "\\begin{align}\n",
    "\\mathbf{R^2}(y,\\hat{y}) & = 1- \\frac{\\sum_{i=1}^{n} (y_i-\\hat{y_i})^2}{\\sum_{i=1}^{n} (y_i-\\bar{y})^2}\\\\\n",
    "\\end{align}\n",
    "The best possible score is 1.0, lower values are worse."
   ]
  },
  {
   "cell_type": "code",
   "execution_count": null,
   "metadata": {},
   "outputs": [],
   "source": [
    "from sklearn import metrics\n",
    "\n",
    "metrics.explained_variance_score(y_true, y_pred)\n",
    "metrics.mean_squared_error(y_true, y_pred)\n",
    "metrics.r2_score(y_true, y_pred)"
   ]
  }
 ],
 "metadata": {
  "kernelspec": {
   "display_name": "Python 3",
   "language": "python",
   "name": "python3"
  },
  "language_info": {
   "codemirror_mode": {
    "name": "ipython",
    "version": 3
   },
   "file_extension": ".py",
   "mimetype": "text/x-python",
   "name": "python",
   "nbconvert_exporter": "python",
   "pygments_lexer": "ipython3",
   "version": "3.8.3"
  }
 },
 "nbformat": 4,
 "nbformat_minor": 4
}
